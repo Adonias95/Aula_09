{
  "nbformat": 4,
  "nbformat_minor": 0,
  "metadata": {
    "colab": {
      "provenance": [],
      "authorship_tag": "ABX9TyNCvsHjxOG5qZWmyvkR8d3v",
      "include_colab_link": true
    },
    "kernelspec": {
      "name": "python3",
      "display_name": "Python 3"
    },
    "language_info": {
      "name": "python"
    }
  },
  "cells": [
    {
      "cell_type": "markdown",
      "metadata": {
        "id": "view-in-github",
        "colab_type": "text"
      },
      "source": [
        "<a href=\"https://colab.research.google.com/github/Adonias95/Aula_09/blob/master/Desenvolvimento05.ipynb\" target=\"_parent\"><img src=\"https://colab.research.google.com/assets/colab-badge.svg\" alt=\"Open In Colab\"/></a>"
      ]
    },
    {
      "cell_type": "markdown",
      "source": [
        "Calculadora infinita"
      ],
      "metadata": {
        "id": "M5Tt85zHnpsI"
      }
    },
    {
      "cell_type": "code",
      "source": [
        "executar = True\n",
        "\n",
        "while(executar == True):\n",
        "  print(\"Qual operação você quer executar?\")\n",
        "  print(\"1:Soma 2:Subtração 3:Multiplicação 4:Divisão 0:Sair\")\n",
        "  operacao = int(input())\n",
        "  if(operacao < 0) or (operacao >4):\n",
        "    print (\"Essa operação não existe\")\n",
        "  elif(operacao == 0):\n",
        "\n",
        "      executar = False\n",
        "  else:\n",
        "      print(\"Coloque o primeiro número da operação\")\n",
        "      num1 = int(input())\n",
        "      print(\"Coloque o segundo número da operação\")\n",
        "      num2 = int(input())\n",
        "      resultado = (num1, num2, operacao)\n",
        "      print(\"O resultado é:\", resultado)\n"
      ],
      "metadata": {
        "colab": {
          "base_uri": "https://localhost:8080/"
        },
        "id": "_Tt7xRDdnv76",
        "outputId": "205e26a7-2c63-47a1-bf24-b1d03e5e8c7a"
      },
      "execution_count": 7,
      "outputs": [
        {
          "name": "stdout",
          "output_type": "stream",
          "text": [
            "Qual operação você quer executar?\n",
            "1:Soma 2:Subtração 3:Multiplicação 4:Divisão 0:Sair\n",
            "1\n",
            "Coloque o primeiro número da operação\n",
            "5\n",
            "Coloque o segundo número da operação\n",
            "5\n",
            "O resultado é: (5, 5, 1)\n",
            "Qual operação você quer executar?\n",
            "1:Soma 2:Subtração 3:Multiplicação 4:Divisão 0:Sair\n",
            "0\n"
          ]
        }
      ]
    },
    {
      "cell_type": "code",
      "execution_count": null,
      "metadata": {
        "id": "3q0UAB29ndhQ"
      },
      "outputs": [],
      "source": []
    }
  ]
}